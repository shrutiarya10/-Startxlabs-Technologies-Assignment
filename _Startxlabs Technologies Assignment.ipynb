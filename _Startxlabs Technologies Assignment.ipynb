{
 "cells": [
  {
   "cell_type": "markdown",
   "metadata": {},
   "source": [
    "####  Write a function which takes two arguments: a list of customers and the number of open cash registers. Each customer is represented by an integer which indicates the amount of time needed to checkout. Assuming that customers are served in their original order, your function should output the minimum time required to serve all customers.\n",
    "Example:\n",
    "get_checkout_time([5, 1, 3], 1) should return 9\n",
    "get_checkout_time([10, 3, 4, 2], 2) should return 10 because while the first register is busy serving customer[0] the second register can serve all remaining customers."
   ]
  },
  {
   "cell_type": "code",
   "execution_count": 5,
   "metadata": {},
   "outputs": [
    {
     "name": "stdout",
     "output_type": "stream",
     "text": [
      "9\n",
      "10\n"
     ]
    }
   ],
   "source": [
    "def checkout_time(customers, cash_registers):\n",
    "    if cash_registers == 1:\n",
    "        return sum(customers)\n",
    "    elif len(customers) <= cash_registers:\n",
    "        return max(customers)\n",
    "\n",
    "    registers = {}\n",
    "    for i in range(cash_registers):\n",
    "        registers[i] = customers.pop(0)\n",
    "\n",
    "    count = 0\n",
    "    while any(registers.values()):\n",
    "        for j in registers.copy():\n",
    "\n",
    "            registers[j] -= 1\n",
    "            if registers[j] <= 0:\n",
    "                try:\n",
    "                    registers[j] = customers.pop(0)\n",
    "                except IndexError:\n",
    "                    registers[j] = 0\n",
    "        count += 1\n",
    "    return count\n",
    "\n",
    "\n",
    "print(checkout_time([5, 1, 3], 1))\n",
    "print(checkout_time([10, 3, 4, 2], 2))"
   ]
  },
  {
   "cell_type": "markdown",
   "metadata": {},
   "source": [
    "#### Write a function that satisfies the following rules:\n",
    "#### Return true if the string in the first element of the list contains all of the letters of the string in the second element of the list.\n",
    "examples\n",
    "[\"hello\", \"Hello\"]\n",
    "should return true because all of the letters in the second string are present in the first, ignoring case.\n",
    "[\"hello\", \"hey\"]\n",
    "should return false because the string \"hello\" does not contain a \"y\".\n",
    "[\"Alien\", \"line\"]\n",
    "should return true because all of the letters in \"line\" are present in \"Alien\"."
   ]
  },
  {
   "cell_type": "code",
   "execution_count": 7,
   "metadata": {},
   "outputs": [
    {
     "name": "stdout",
     "output_type": "stream",
     "text": [
      "True\n",
      "False\n",
      "True\n"
     ]
    }
   ],
   "source": [
    "def func(lst):\n",
    "    x=lst[0].lower()\n",
    "    y=lst[1].lower()\n",
    "    c=0\n",
    "    c2=0\n",
    "    for j in y:\n",
    "        if j in x:\n",
    "            c+=1\n",
    "        else:\n",
    "            c2+=1\n",
    "    if c2>=1:\n",
    "        print(\"False\")\n",
    "    else:\n",
    "        print(\"True\")\n",
    "        \n",
    "#lst = []\n",
    "#for i in range(0,2):\n",
    "#    lst.append(input()) \n",
    "#print(lst)\n",
    "func([\"hello\", \"Hello\"])\n",
    "func([\"hello\", \"hey\"])\n",
    "func([\"Alien\", \"line\"])"
   ]
  },
  {
   "cell_type": "code",
   "execution_count": null,
   "metadata": {},
   "outputs": [],
   "source": []
  }
 ],
 "metadata": {
  "kernelspec": {
   "display_name": "Python 3",
   "language": "python",
   "name": "python3"
  },
  "language_info": {
   "codemirror_mode": {
    "name": "ipython",
    "version": 3
   },
   "file_extension": ".py",
   "mimetype": "text/x-python",
   "name": "python",
   "nbconvert_exporter": "python",
   "pygments_lexer": "ipython3",
   "version": "3.7.6"
  }
 },
 "nbformat": 4,
 "nbformat_minor": 4
}
